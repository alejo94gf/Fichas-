{
  "nbformat": 4,
  "nbformat_minor": 0,
  "metadata": {
    "colab": {
      "provenance": [],
      "authorship_tag": "ABX9TyO8sQOEnItvWv/N6jBMTSO/",
      "include_colab_link": true
    },
    "kernelspec": {
      "name": "python3",
      "display_name": "Python 3"
    },
    "language_info": {
      "name": "python"
    }
  },
  "cells": [
    {
      "cell_type": "markdown",
      "metadata": {
        "id": "view-in-github",
        "colab_type": "text"
      },
      "source": [
        "<a href=\"https://colab.research.google.com/github/alejo94gf/Fichas-/blob/main/Cp.ipynb\" target=\"_parent\"><img src=\"https://colab.research.google.com/assets/colab-badge.svg\" alt=\"Open In Colab\"/></a>"
      ]
    },
    {
      "cell_type": "markdown",
      "source": [
        "\n",
        " Los bucles en Python, específicamente el ciclo \"for\", se utilizan para iterar sobre una secuencia (como una lista, tupla, cadena de texto o rango numérico) o cualquier objeto iterable.  En cada iteración, el código dentro del bucle se ejecuta con el siguiente elemento de la secuencia.  Son extremadamente útiles cuando necesitas realizar una misma acción varias veces, modificando un valor o realizando alguna operación sobre cada elemento de la secuencia.\n",
        "\n"
      ],
      "metadata": {
        "id": "5YYabsAL8QWs"
      }
    },
    {
      "cell_type": "code",
      "execution_count": null,
      "metadata": {
        "id": "5CRogHeS7vOU"
      },
      "outputs": [],
      "source": [
        "# Ejemplo: Imprimir cada elemento de una lista de nombres.\n",
        "\n",
        "nombres = [\"Alice\", \"Bob\", \"Charlie\", \"David\"]\n",
        "\n",
        "for nombre in nombres:\n",
        "nombre\n",
        "\n",
        "\n",
        "# El ciclo \"for\" recorre cada elemento de la lista \"nombres\".\n",
        "# En cada iteración, la variable \"nombre\" toma el valor del elemento actual de la lista.\n",
        "# La función print(nombre) imprime el valor de la variable \"nombre\" en la consola.\n",
        "# El bucle se repite hasta que se han procesado todos los elementos de la lista.\n",
        "# El resultado mostrado en la consola es cada nombre de la lista en una linea diferente.\n",
        "# El propósito del bucle \"for\" en este ejemplo es iterar sobre la lista y ejecutar la accion print() sobre cada elemento.\n",
        "# Este tipo de bucle es útil para automatizar acciones repetitivas en una coleccion de datos.\n"
      ]
    },
    {
      "cell_type": "markdown",
      "source": [],
      "metadata": {
        "id": "7KT1PPrc8L5j"
      }
    }
  ]
}